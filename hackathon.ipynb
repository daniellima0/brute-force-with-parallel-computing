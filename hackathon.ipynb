{
  "cells": [
    {
      "cell_type": "markdown",
      "metadata": {
        "id": "OsPC9TnLGTC4"
      },
      "source": [
        "<div align=\"center\"><h1>Aplicação de técnicas de paralelismo para otimização de código</h1></div>"
      ]
    },
    {
      "cell_type": "markdown",
      "metadata": {
        "id": "reZJEfmiGTC6"
      },
      "source": [
        "## Introdução"
      ]
    },
    {
      "cell_type": "markdown",
      "metadata": {
        "id": "Con8_LqvGTC7"
      },
      "source": []
    },
    {
      "cell_type": "markdown",
      "metadata": {
        "id": "q4XvcBuCGTC7"
      },
      "source": [
        "## Código Sequencial\n",
        "\n",
        "```cpp\n",
        "#include <stdio.h>\n",
        "#include <stdlib.h>\n",
        "#include <string.h>\n",
        "#include <time.h>\n",
        "#include <math.h>\n",
        "//97 to 122 use only lowercase letters\n",
        "//65 to 90 use only capital letters\n",
        "//48 to 57 use only numbers\n",
        "#define START_CHAR 97\n",
        "#define END_CHAR 122\n",
        "#define MAXIMUM_PASSWORD 20\n",
        "\n",
        "void bruteForce(char *pass);\n",
        "long long my_pow(long long x, int y);\n",
        "\n",
        "int main(int argc, char **argv) {\n",
        "\n",
        "  char password[MAXIMUM_PASSWORD];\n",
        "  strcpy(password, argv[1]);\n",
        "  time_t t1, t2;\n",
        "  double dif;\n",
        "\n",
        "  time (&t1);\n",
        "  bruteForce(password);\n",
        "  time (&t2);\n",
        "\n",
        "  dif = difftime (t2,t1);\n",
        "\n",
        "  printf(\"\\n%1.2f seconds\\n\", dif);\n",
        "\n",
        "  return 0;\n",
        "\n",
        "}\n",
        "\n",
        "/*Check and increase the digits if you don't find the password...*/\n",
        "void bruteForce(char *pass) {\n",
        "  int size;\n",
        "  char force[MAXIMUM_PASSWORD];\n",
        "  int palavra[9];\n",
        "  int pass_b26[9];\n",
        "  long long int j;\n",
        "  long long int pass_decimal = 0;\n",
        "  int base = END_CHAR-START_CHAR+2;\n",
        "\n",
        "  size = strlen(pass);\n",
        "\n",
        "  for(int i = 0;i < MAXIMUM_PASSWORD; i++)\n",
        "    force[i] = '\\0';\n",
        "\n",
        "  printf(\"Estamos tentando quebrar: %s\\n\", pass);\n",
        "\n",
        "  for(int i = 0; i < strlen(pass); i++){\n",
        "    pass_b26[i] = (int)pass[i]-START_CHAR+1; //+1 pois o vazio é o zero e o 'a' é 1\n",
        "  }\n",
        "  for(int i = strlen(pass) - 1; i > -1; i--){\n",
        "    pass_decimal += (long long int) pass_b26[i]*my_pow(base,i);\n",
        "  }\n",
        "\n",
        "  long long int max = my_pow(base,9);\n",
        "  char s[10];\n",
        "  for(j = 0; j < max; j++){\n",
        "    if(j == pass_decimal){\n",
        "      printf(\"Encontrou o password!\\n\");\n",
        "      int index = 0;\n",
        "\n",
        "      printf(\"O número que estamos tentando encontrar (password na base decimal): %lli\\n\", j);\n",
        "      while(j > 0){\n",
        "        s[index++] = 'a' + j%base-1;\n",
        "        j /= base;\n",
        "      }\n",
        "      s[index] = '\\0';\n",
        "      printf(\"Password encontrado: %s\\n\", s);\n",
        "      break;\n",
        "    }\n",
        "  }\n",
        "\n",
        "}\n",
        "\n",
        "long long my_pow(long long x, int y)\n",
        "{\n",
        "  long long res = 1;\n",
        "  if (y==0)\n",
        "    return res;\n",
        "  else\n",
        "    return x*my_pow(x,y-1);\n",
        "}\n",
        "```"
      ]
    },
    {
      "cell_type": "markdown",
      "metadata": {
        "id": "liNM_SFRGTC-"
      },
      "source": [
        "---\n",
        "## Desenhos Paralelos"
      ]
    },
    {
      "cell_type": "markdown",
      "metadata": {
        "id": "dM72P9adGTC_"
      },
      "source": [
        "### Multicore - OPENMP"
      ]
    },
    {
      "cell_type": "markdown",
      "metadata": {
        "id": "rG6aDkS6GTC_"
      },
      "source": []
    },
    {
      "cell_type": "markdown",
      "metadata": {
        "id": "3mp3F5JXGTDA"
      },
      "source": [
        "### Multiprocessador - MPI"
      ]
    },
    {
      "cell_type": "markdown",
      "metadata": {
        "id": "FzW5OdKhGTDB"
      },
      "source": [
        "### GPU - CUDA"
      ]
    },
    {
      "cell_type": "markdown",
      "metadata": {
        "id": "-7lwBHt_GTDB"
      },
      "source": []
    },
    {
      "cell_type": "markdown",
      "metadata": {
        "id": "YpQC_9KBGTDC"
      },
      "source": [
        "## Modelo híbrido"
      ]
    },
    {
      "cell_type": "markdown",
      "metadata": {
        "id": "YcJfBAukGTDC"
      },
      "source": [
        "## Análise Experimental"
      ]
    },
    {
      "cell_type": "markdown",
      "metadata": {
        "id": "s6ctpZYvGTDC"
      },
      "source": [
        "1. OpenMP \n",
        "2. MPI \n",
        "3. MPI + OpenMP \n",
        "4. CUDA"
      ]
    },
    {
      "cell_type": "markdown",
      "metadata": {
        "id": "GiyEd6W_GTDD"
      },
      "source": [
        "### Tempo de execução em segundas das aplicações"
      ]
    },
    {
      "cell_type": "markdown",
      "metadata": {
        "id": "99aNB8DxGTDD"
      },
      "source": [
        "|  Senha    | Sequencial | OpenMP | MPI  | Híbrido | CUDA\n",
        "| --------- | ---------- | ------ | ---  | ------- | ----\n",
        "|         |           |       |     |       |  \n",
        "|         |         |      |    |        | \n",
        "|         |        |      |   |        | \n",
        "|        |       |    | |      | "
      ]
    },
    {
      "cell_type": "markdown",
      "metadata": {
        "tags": [],
        "id": "WDNKdvyaGTDD"
      },
      "source": [
        "### Speedup"
      ]
    },
    {
      "cell_type": "markdown",
      "metadata": {
        "id": "Joe346mGGTDD"
      },
      "source": [
        "|  Senha    |  OpenMP    | MPI     | Híbrido       | CUDA\n",
        "| --------- |  ------    | ------  | -------       | ----\n",
        "|         |        |      |            |  \n",
        "|         |       |    |            |   \n",
        "|        |       |     |         |  \n",
        "|      |       |    |         |  "
      ]
    },
    {
      "cell_type": "code",
      "execution_count": null,
      "metadata": {
        "id": "Q2dIXwn9GTDD"
      },
      "outputs": [],
      "source": []
    }
  ],
  "metadata": {
    "kernelspec": {
      "display_name": "Python 3 (ipykernel)",
      "language": "python",
      "name": "python3"
    },
    "language_info": {
      "codemirror_mode": {
        "name": "ipython",
        "version": 3
      },
      "file_extension": ".py",
      "mimetype": "text/x-python",
      "name": "python",
      "nbconvert_exporter": "python",
      "pygments_lexer": "ipython3",
      "version": "3.8.8"
    },
    "colab": {
      "provenance": []
    }
  },
  "nbformat": 4,
  "nbformat_minor": 0
}