{
  "cells": [
    {
      "cell_type": "markdown",
      "metadata": {
        "id": "OsPC9TnLGTC4"
      },
      "source": [
        "<div align=\"center\"><h1>Aplicação de técnicas de paralelismo para otimização de código</h1></div>"
      ]
    },
    {
      "cell_type": "markdown",
      "metadata": {
        "id": "reZJEfmiGTC6"
      },
      "source": [
        "## Introdução"
      ]
    },
    {
      "cell_type": "markdown",
      "metadata": {
        "id": "Con8_LqvGTC7"
      },
      "source": []
    },
    {
      "cell_type": "code",
      "source": [
        "%%writefile brute-force.c\n",
        "\n",
        "// Sequential\n",
        "\n",
        "#include <stdio.h>\n",
        "#include <stdlib.h>\n",
        "#include <string.h>\n",
        "#include <time.h>\n",
        "#include <math.h>\n",
        "\n",
        "// 97 to 122 use only lowercase letters\n",
        "// 65 to 90 use only capital letters\n",
        "// 48 to 57 use only numbers\n",
        "#define START_CHAR 97\n",
        "#define END_CHAR 122\n",
        "#define MAXIMUM_PASSWORD 20\n",
        "\n",
        "void bruteForce(char *pass);\n",
        "long long my_pow(long long x, int y);\n",
        "\n",
        "int main(int argc, char **argv) {\n",
        "    char password[MAXIMUM_PASSWORD];\n",
        "    strcpy(password, argv[1]);\n",
        "    clock_t t1, t2, dif;\n",
        "\n",
        "    t1 = clock();\n",
        "    bruteForce(password);\n",
        "    t2 = clock();\n",
        "\n",
        "    dif = t2 - t1;\n",
        "\n",
        "    double time_taken = ((double)dif)/CLOCKS_PER_SEC;\n",
        "\n",
        "    printf(\"\\n%1.2lf seconds\\n\", time_taken);\n",
        "\n",
        "    return 0;\n",
        "}\n",
        "\n",
        "/*Check and increase the digits if you don't find the password...*/\n",
        "void bruteForce(char *pass) {\n",
        "    int size;\n",
        "    int pass_b26[MAXIMUM_PASSWORD];\n",
        "    long long int j;\n",
        "    long long int pass_decimal = 0;\n",
        "    int base = END_CHAR - START_CHAR + 2;\n",
        "\n",
        "    size = strlen(pass);\n",
        "\n",
        "    printf(\"Estamos tentando quebrar: %s\\n\", pass);\n",
        "\n",
        "    for (int i = 0; i < size; i++) {\n",
        "        pass_b26[i] = (int)pass[i] - START_CHAR + 1;  //+1 pois o vazio é o zero e o 'a' é 1\n",
        "    }\n",
        "    for (int i = size - 1; i > -1; i--) {\n",
        "        pass_decimal += (long long int)pass_b26[i] * my_pow(base, i);\n",
        "    }\n",
        "\n",
        "    long long int max = my_pow(base, 9);\n",
        "    char s[10];\n",
        "    for (j = 0; j < max; j++) {\n",
        "        if (j == pass_decimal) {\n",
        "            printf(\"Encontrou o password!\\n\");\n",
        "            int index = 0;\n",
        "\n",
        "            printf(\"O número que estamos tentando encontrar (password na base decimal): %lli\\n\", j);\n",
        "            while (j > 0) {\n",
        "                s[index++] = START_CHAR + j % base - 1;\n",
        "                j /= base;\n",
        "            }\n",
        "            s[index] = '\\0';\n",
        "            printf(\"Password encontrado: %s\\n\", s);\n",
        "            break;\n",
        "        }\n",
        "    }\n",
        "}\n",
        "\n",
        "long long my_pow(long long x, int y) {\n",
        "    long long res = 1;\n",
        "    if (y == 0)\n",
        "        return res;\n",
        "    else\n",
        "        return x * my_pow(x, y - 1);\n",
        "}"
      ],
      "metadata": {
        "colab": {
          "base_uri": "https://localhost:8080/"
        },
        "id": "hOGoE_Ym9oNU",
        "outputId": "6a60de25-a7fc-4cf4-f024-6661ac94c0db"
      },
      "execution_count": null,
      "outputs": [
        {
          "output_type": "stream",
          "name": "stdout",
          "text": [
            "Writing brute-force.c\n"
          ]
        }
      ]
    },
    {
      "cell_type": "code",
      "source": [
        "!gcc brute-force.c -o sequential; ./sequential zzzzzz"
      ],
      "metadata": {
        "colab": {
          "base_uri": "https://localhost:8080/"
        },
        "id": "HZpA-LM-9raS",
        "outputId": "1f4809af-1d91-427e-f86d-df6ab8fd2a04"
      },
      "execution_count": null,
      "outputs": [
        {
          "output_type": "stream",
          "name": "stdout",
          "text": [
            "Estamos tentando quebrar: zzzzzz\n",
            "Encontrou o password!\n",
            "O número que estamos tentando encontrar (password na base decimal): 387420488\n",
            "Password encontrado: zzzzzz\n",
            "\n",
            "1.24 seconds\n"
          ]
        }
      ]
    },
    {
      "cell_type": "markdown",
      "metadata": {
        "id": "liNM_SFRGTC-"
      },
      "source": [
        "---\n",
        "## Desenhos Paralelos"
      ]
    },
    {
      "cell_type": "markdown",
      "metadata": {
        "id": "dM72P9adGTC_"
      },
      "source": [
        "### Multicore - OPENMP"
      ]
    },
    {
      "cell_type": "markdown",
      "metadata": {
        "id": "rG6aDkS6GTC_"
      },
      "source": [
        "## Recursos "
      ]
    },
    {
      "cell_type": "code",
      "source": [
        "%%writefile openmp-info.cu\n",
        "\n",
        "#include <stdio.h>\n",
        "#include <openmp.h>\n",
        "\n",
        "int main(){\n",
        "  printf(\"numero de threads: %d\\n\", omp_get_num_threads);\n",
        "\n",
        "  return 0;\n",
        "}"
      ],
      "metadata": {
        "colab": {
          "base_uri": "https://localhost:8080/"
        },
        "id": "-iSEKFm_7Xd7",
        "outputId": "0b24a984-945f-49b4-ec9d-9a3b9aa6deaa"
      },
      "execution_count": null,
      "outputs": [
        {
          "output_type": "stream",
          "name": "stdout",
          "text": [
            "Overwriting openmp-info.cu\n"
          ]
        }
      ]
    },
    {
      "cell_type": "code",
      "source": [
        "%%writefile brute-force-openmp.c\n",
        "\n",
        "// OpenMP\n",
        "\n",
        "#include <stdio.h>\n",
        "#include <stdlib.h>\n",
        "#include <string.h>\n",
        "#include <time.h>\n",
        "#include <math.h>\n",
        "#include <omp.h>\n",
        "\n",
        "// 97 to 122 use only lowercase letters\n",
        "// 65 to 90 use only capital letters\n",
        "// 48 to 57 use only numbers\n",
        "#define START_CHAR 97\n",
        "#define END_CHAR 122\n",
        "#define MAXIMUM_PASSWORD 20\n",
        "\n",
        "void bruteForce(char *pass);\n",
        "long long my_pow(long long x, int y);\n",
        "double t1, t2;\n",
        "double dif;\n",
        "\n",
        "int main(int argc, char **argv) {\n",
        "    char password[MAXIMUM_PASSWORD];\n",
        "    strcpy(password, argv[1]);\n",
        "    t1 = omp_get_wtime();\n",
        "    bruteForce(password);\n",
        "    \n",
        "    return 0;\n",
        "}\n",
        "\n",
        "/*Check and increase the digits if you don't find the password...*/\n",
        "void bruteForce(char *pass) {\n",
        "    int size;\n",
        "    char force[MAXIMUM_PASSWORD];\n",
        "    int palavra[9];\n",
        "    int pass_b26[9];\n",
        "    long long int j;\n",
        "    long long int pass_decimal = 0;\n",
        "    int base = END_CHAR - START_CHAR + 2;\n",
        "\n",
        "    size = strlen(pass);\n",
        "\n",
        "    for (int i = 0; i < MAXIMUM_PASSWORD; i++)\n",
        "        force[i] = '\\0';\n",
        "\n",
        "    printf(\"Estamos tentando quebrar: %s\\n\", pass);\n",
        "\n",
        "    for (int i = 0; i < strlen(pass); i++) {\n",
        "        pass_b26[i] = (int)pass[i] - START_CHAR + 1;  //+1 pois o vazio é o zero e o 'a' é 1\n",
        "    }\n",
        "\n",
        "    for (int i = strlen(pass) - 1; i > -1; i--) {\n",
        "        pass_decimal += (long long int)pass_b26[i] * my_pow(base, i);\n",
        "    }\n",
        "\n",
        "    long long int max = my_pow(base, 9);\n",
        "    char s[10];\n",
        "#pragma omp parallel for private(j)\n",
        "    for (j = 0; j < max; j++) {\n",
        "        if (j == pass_decimal) {\n",
        "            printf(\"Encontrou o password!\\n\");\n",
        "            int index = 0;\n",
        "\n",
        "            printf(\"O número que estamos tentando encontrar (password na base decimal): %lli\\n\", j);\n",
        "            while (j > 0) {\n",
        "                s[index++] = START_CHAR + j % base - 1;\n",
        "                j /= base;\n",
        "            }\n",
        "            s[index] = '\\0';\n",
        "            printf(\"Password encontrado: %s\\n\", s);\n",
        "            t2 = omp_get_wtime();\n",
        "            dif = t2 - t1;\n",
        "            printf(\"\\n%1.2lf seconds\\n\", dif);\n",
        "            exit(1);\n",
        "        }\n",
        "    }\n",
        "}\n",
        "\n",
        "long long my_pow(long long x, int y) {\n",
        "    long long res = 1;\n",
        "    if (y == 0)\n",
        "        return res;\n",
        "    else\n",
        "        return x * my_pow(x, y - 1);\n",
        "}"
      ],
      "metadata": {
        "colab": {
          "base_uri": "https://localhost:8080/"
        },
        "id": "6KeMOj1I6NnA",
        "outputId": "9827d8c4-803c-4707-ca5d-eaf8f8a25138"
      },
      "execution_count": null,
      "outputs": [
        {
          "output_type": "stream",
          "name": "stdout",
          "text": [
            "Overwriting brute-force-openmp.c\n"
          ]
        }
      ]
    },
    {
      "cell_type": "code",
      "source": [
        "!gcc brute-force-openmp.c -o openmp -fopenmp; ./openmp zzzzzz 1"
      ],
      "metadata": {
        "colab": {
          "base_uri": "https://localhost:8080/"
        },
        "id": "TpzWfkzJ6r9_",
        "outputId": "a63c07d0-a74a-48f2-85a2-903c97ef5662"
      },
      "execution_count": null,
      "outputs": [
        {
          "output_type": "stream",
          "name": "stdout",
          "text": [
            "Estamos tentando quebrar: zzzzzz\n",
            "Encontrou o password!\n",
            "O número que estamos tentando encontrar (password na base decimal): 387420488\n",
            "Password encontrado: zzzzzz\n",
            "\n",
            "1.16 seconds\n"
          ]
        }
      ]
    },
    {
      "cell_type": "markdown",
      "metadata": {
        "id": "3mp3F5JXGTDA"
      },
      "source": [
        "### Multiprocessador - MPI"
      ]
    },
    {
      "cell_type": "code",
      "source": [
        "%%writefile mpi-info.c\n",
        "\n",
        "#include <stdio.h>\n",
        "\n",
        "int main(){\n",
        "  // \n",
        "\n",
        "  return 0;\n",
        "}"
      ],
      "metadata": {
        "colab": {
          "base_uri": "https://localhost:8080/"
        },
        "id": "VaWZVh4XP1BY",
        "outputId": "ab79a8fa-ee38-4340-d7bb-041718d8a36f"
      },
      "execution_count": null,
      "outputs": [
        {
          "output_type": "stream",
          "name": "stdout",
          "text": [
            "Writing mpi-info.c\n"
          ]
        }
      ]
    },
    {
      "cell_type": "code",
      "source": [
        "!mpicc mpi-info.c -o mpi-info; ./mpi-info"
      ],
      "metadata": {
        "id": "Fhggn-5DQHj_"
      },
      "execution_count": null,
      "outputs": []
    },
    {
      "cell_type": "code",
      "source": [
        "%%writefile brute-force-mpi.c\n",
        "\n",
        "// MPI\n",
        "\n",
        "#include <stdio.h>\n",
        "#include <stdlib.h>\n",
        "#include <string.h>\n",
        "#include <time.h>\n",
        "#include <math.h>\n",
        "#include <mpi.h>\n",
        "\n",
        "// 97 to 122 use only lowercase letters\n",
        "// 65 to 90 use only capital letters\n",
        "// 48 to 57 use only numbers\n",
        "#define START_CHAR 97\n",
        "#define END_CHAR 122\n",
        "#define MAXIMUM_PASSWORD 20\n",
        "\n",
        "void bruteForce(char *pass);\n",
        "long long my_pow(long long x, int y);\n",
        "double t1, t2;\n",
        "double dif;\n",
        "\n",
        "int main(int argc, char **argv) {\n",
        "    char password[MAXIMUM_PASSWORD];\n",
        "    strcpy(password, argv[1]);\n",
        "\n",
        "    MPI_Init(&argc, &argv);\n",
        "\n",
        "    t1 = MPI_Wtime();\n",
        "    bruteForce(password);\n",
        "\n",
        "    return 0;\n",
        "}\n",
        "\n",
        "/*Check and increase the digits if you don't find the password...*/\n",
        "void bruteForce(char *pass) {\n",
        "    int size;\n",
        "    int pass_b26[MAXIMUM_PASSWORD];\n",
        "    long long int j;\n",
        "    long long int pass_decimal = 0;\n",
        "    int base = END_CHAR - START_CHAR + 2;\n",
        "\n",
        "    size = strlen(pass);\n",
        "\n",
        "    printf(\"Estamos tentando quebrar: %s\\n\", pass);\n",
        "\n",
        "    for (int i = 0; i < size; i++) {\n",
        "        pass_b26[i] = (int)pass[i] - START_CHAR + 1;  //+1 pois o vazio é o zero e o 'a' é 1\n",
        "    }\n",
        "\n",
        "    for (int i = size - 1; i > -1; i--) {\n",
        "        pass_decimal += (long long int)pass_b26[i] * my_pow(base, i);\n",
        "    }\n",
        "\n",
        "    long long int max = my_pow(base, 9);\n",
        "    char s[10];\n",
        "\n",
        "    int rank;\n",
        "    MPI_Comm_rank(MPI_COMM_WORLD, &rank);\n",
        "\n",
        "    int numberOfProcesses;\n",
        "    MPI_Comm_size(MPI_COMM_WORLD, &numberOfProcesses);\n",
        "\n",
        "    long long int amountPerProcess = max / numberOfProcesses;\n",
        "\n",
        "    // 4 processos\n",
        "    // 0  1  2  3\n",
        "    // c  c  c  c\n",
        "\n",
        "    // 0: amountPerProcess*0 ate amountPerProcess*1\n",
        "    // 1: amountPerProcess*1 ate amountPerProcess*2\n",
        "    // 2: amountPerProcess*2 ate amountPerProcess*3\n",
        "    // 3: amountPerProcess*3 ate amountPerProcess*4\n",
        "\n",
        "    for (int n = 0; n < numberOfProcesses; n++) {\n",
        "        if (rank == n) {\n",
        "            for (j = amountPerProcess * n; j < amountPerProcess * (n + 1); j++) {\n",
        "                if (j == pass_decimal) {\n",
        "                    printf(\"Encontrou o password!\\n\");\n",
        "                    int index = 0;\n",
        "\n",
        "                    printf(\"O número que estamos tentando encontrar (password na base decimal): %lli\\n\", j);\n",
        "                    while (j > 0) {\n",
        "                        s[index++] = START_CHAR + j % base - 1;\n",
        "                        j /= base;\n",
        "                    }\n",
        "                    s[index] = '\\0';\n",
        "                    printf(\"Password encontrado: %s\\n\", s);\n",
        "                    t2 = MPI_Wtime();\n",
        "\n",
        "                    dif = t2 - t1;\n",
        "\n",
        "                    printf(\"\\n%1.2f seconds\\n\", dif);\n",
        "                    MPI_Abort(MPI_COMM_WORLD, 1);\n",
        "                    MPI_Finalize();\n",
        "                }\n",
        "            }\n",
        "        }\n",
        "    }\n",
        "}\n",
        "\n",
        "long long my_pow(long long x, int y) {\n",
        "    long long res = 1;\n",
        "    if (y == 0)\n",
        "        return res;\n",
        "    else\n",
        "        return x * my_pow(x, y - 1);\n",
        "}"
      ],
      "metadata": {
        "colab": {
          "base_uri": "https://localhost:8080/"
        },
        "id": "jZjL7ceXQ_MR",
        "outputId": "9c96d063-85eb-48ac-91ca-72133067a44b"
      },
      "execution_count": null,
      "outputs": [
        {
          "output_type": "stream",
          "name": "stdout",
          "text": [
            "Writing brute-force-mpi.c\n"
          ]
        }
      ]
    },
    {
      "cell_type": "code",
      "source": [
        "!mpicc brute-force-mpi.c -o mpi; mpirun -np 1 --allow-run-as-root --oversubscribe ./mpi zzzzzz"
      ],
      "metadata": {
        "colab": {
          "base_uri": "https://localhost:8080/"
        },
        "id": "XI7jp92LUzsM",
        "outputId": "89c96957-caf8-4d3c-a1fd-b2f3388b9855"
      },
      "execution_count": null,
      "outputs": [
        {
          "output_type": "stream",
          "name": "stdout",
          "text": [
            "Estamos tentando quebrar: zzzzzz\n",
            "Encontrou o password!\n",
            "O número que estamos tentando encontrar (password na base decimal): 387420488\n",
            "Password encontrado: zzzzzz\n",
            "\n",
            "1.05 seconds\n",
            "--------------------------------------------------------------------------\n",
            "MPI_ABORT was invoked on rank 0 in communicator MPI_COMM_WORLD\n",
            "with errorcode 1.\n",
            "\n",
            "NOTE: invoking MPI_ABORT causes Open MPI to kill all MPI processes.\n",
            "You may or may not see output from other processes, depending on\n",
            "exactly when Open MPI kills them.\n",
            "--------------------------------------------------------------------------\n"
          ]
        }
      ]
    },
    {
      "cell_type": "markdown",
      "source": [
        "### Híbrido (OpenMP + MPI)"
      ],
      "metadata": {
        "id": "q4-ikr826ZQx"
      }
    },
    {
      "cell_type": "code",
      "source": [
        "%%writefile brute-force-hibrido.c\n",
        "\n",
        "// OpenMP + MPI\n",
        "\n",
        "#include <stdio.h>\n",
        "#include <stdlib.h>\n",
        "#include <string.h>\n",
        "#include <time.h>\n",
        "#include <math.h>\n",
        "#include <mpi.h>\n",
        "#include <omp.h>\n",
        "\n",
        "\n",
        "// 97 to 122 use only lowercase letters\n",
        "// 65 to 90 use only capital letters\n",
        "// 48 to 57 use only numbers\n",
        "#define START_CHAR 97\n",
        "#define END_CHAR 122\n",
        "#define MAXIMUM_PASSWORD 20\n",
        "\n",
        "void bruteForce(char *pass);\n",
        "long long my_pow(long long x, int y);\n",
        "double t1, t2;\n",
        "double dif;\n",
        "\n",
        "int main(int argc, char **argv) {\n",
        "    char password[MAXIMUM_PASSWORD];\n",
        "    strcpy(password, argv[1]);\n",
        "\n",
        "    MPI_Init(&argc, &argv);\n",
        "\n",
        "    t1 = MPI_Wtime();\n",
        "    bruteForce(password);\n",
        "\n",
        "    return 0;\n",
        "}\n",
        "\n",
        "/*Check and increase the digits if you don't find the password...*/\n",
        "void bruteForce(char *pass) {\n",
        "    int size;\n",
        "    int pass_b26[MAXIMUM_PASSWORD];\n",
        "    long long int j;\n",
        "    long long int pass_decimal = 0;\n",
        "    int base = END_CHAR - START_CHAR + 2;\n",
        "\n",
        "    size = strlen(pass);\n",
        "\n",
        "    printf(\"Estamos tentando quebrar: %s\\n\", pass);\n",
        "\n",
        "    for (int i = 0; i < size; i++) {\n",
        "        pass_b26[i] = (int)pass[i] - START_CHAR + 1;  //+1 pois o vazio é o zero e o 'a' é 1\n",
        "    }\n",
        "\n",
        "    for (int i = size - 1; i > -1; i--) {\n",
        "        pass_decimal += (long long int)pass_b26[i] * my_pow(base, i);\n",
        "    }\n",
        "\n",
        "    long long int max = my_pow(base, 9);\n",
        "    char s[10];\n",
        "\n",
        "    int rank;\n",
        "    MPI_Comm_rank(MPI_COMM_WORLD, &rank);\n",
        "\n",
        "    int numberOfProcesses;\n",
        "    MPI_Comm_size(MPI_COMM_WORLD, &numberOfProcesses);\n",
        "\n",
        "    long long int amountPerProcess = max / numberOfProcesses;\n",
        "\n",
        "    // 4 processos\n",
        "    // 0  1  2  3\n",
        "    // c  c  c  c\n",
        "\n",
        "    // 0: amountPerProcess*0 ate amountPerProcess*1\n",
        "    // 1: amountPerProcess*1 ate amountPerProcess*2\n",
        "    // 2: amountPerProcess*2 ate amountPerProcess*3\n",
        "    // 3: amountPerProcess*3 ate amountPerProcess*4\n",
        "\n",
        "    for (int n = 0; n < numberOfProcesses; n++) {\n",
        "        if (rank == n) {\n",
        "            #pragma omp parallel for private(j)\n",
        "            for (j = amountPerProcess * n; j < amountPerProcess * (n + 1); j++) {\n",
        "                if (j == pass_decimal) {\n",
        "                    printf(\"Encontrou o password!\\n\");\n",
        "                    int index = 0;\n",
        "\n",
        "                    printf(\"O número que estamos tentando encontrar (password na base decimal): %lli\\n\", j);\n",
        "                    while (j > 0) {\n",
        "                        s[index++] = START_CHAR + j % base - 1;\n",
        "                        j /= base;\n",
        "                    }\n",
        "                    s[index] = '\\0';\n",
        "                    printf(\"Password encontrado: %s\\n\", s);\n",
        "                    t2 = MPI_Wtime();\n",
        "\n",
        "                    dif = t2 - t1;\n",
        "\n",
        "                    printf(\"\\n%1.2f seconds\\n\", dif);\n",
        "                    MPI_Abort(MPI_COMM_WORLD, 1);\n",
        "                    MPI_Finalize();\n",
        "                    exit(1);\n",
        "                }\n",
        "            }\n",
        "        }\n",
        "    }\n",
        "}\n",
        "\n",
        "long long my_pow(long long x, int y) {\n",
        "    long long res = 1;\n",
        "    if (y == 0)\n",
        "        return res;\n",
        "    else\n",
        "        return x * my_pow(x, y - 1);\n",
        "}"
      ],
      "metadata": {
        "colab": {
          "base_uri": "https://localhost:8080/"
        },
        "id": "Ov5-LABx6ezc",
        "outputId": "6a420d18-ba43-4b17-f3b0-20894bd483a6"
      },
      "execution_count": null,
      "outputs": [
        {
          "output_type": "stream",
          "name": "stdout",
          "text": [
            "Writing brute-force-hibrido.c\n"
          ]
        }
      ]
    },
    {
      "cell_type": "code",
      "source": [
        "!mpicc brute-force-hibrido.c -o hibrido -fopenmp; OMP_NUM_THREADS=2 mpirun -np 1 --allow-run-as-root --oversubscribe ./hibrido zzzzzz"
      ],
      "metadata": {
        "colab": {
          "base_uri": "https://localhost:8080/"
        },
        "id": "SmN3mtST6f9O",
        "outputId": "d461918b-71b0-487f-d841-cfe9234c2262"
      },
      "execution_count": null,
      "outputs": [
        {
          "output_type": "stream",
          "name": "stdout",
          "text": [
            "Estamos tentando quebrar: zzzzzz\n",
            "Encontrou o password!\n",
            "O número que estamos tentando encontrar (password na base decimal): 387420488\n",
            "Password encontrado: zzzzzz\n",
            "\n",
            "0.96 seconds\n",
            "--------------------------------------------------------------------------\n",
            "MPI_ABORT was invoked on rank 0 in communicator MPI_COMM_WORLD\n",
            "with errorcode 1.\n",
            "\n",
            "NOTE: invoking MPI_ABORT causes Open MPI to kill all MPI processes.\n",
            "You may or may not see output from other processes, depending on\n",
            "exactly when Open MPI kills them.\n",
            "--------------------------------------------------------------------------\n"
          ]
        }
      ]
    },
    {
      "cell_type": "markdown",
      "metadata": {
        "id": "FzW5OdKhGTDB"
      },
      "source": [
        "### GPU - CUDA"
      ]
    },
    {
      "cell_type": "markdown",
      "source": [
        "## Recursos da GPU"
      ],
      "metadata": {
        "id": "JQMeVyjVz04C"
      }
    },
    {
      "cell_type": "code",
      "source": [
        "%%writefile cuda-info.cu\n",
        "\n",
        "#include <stdio.h>\n",
        "#include <cuda.h>\n",
        "\n",
        "int main(){\n",
        "  cudaDeviceProp deviceProp;\n",
        "  cudaGetDeviceProperties(&deviceProp, 0);  // 0-th device\n",
        "  printf(\"numero de multiprocessadores: %d\\n\", deviceProp.multiProcessorCount);\n",
        "  printf(\"numero de threads por bloco: %d\\n\", deviceProp.maxThreadsPerBlock);\n",
        "\n",
        "  return 0;\n",
        "}"
      ],
      "metadata": {
        "colab": {
          "base_uri": "https://localhost:8080/"
        },
        "id": "0Q_Y5X_--4Vw",
        "outputId": "ddd0a449-2a17-4de3-c64a-1775e203ae5f"
      },
      "execution_count": null,
      "outputs": [
        {
          "output_type": "stream",
          "name": "stdout",
          "text": [
            "Writing cuda-info.cu\n"
          ]
        }
      ]
    },
    {
      "cell_type": "code",
      "source": [
        "!nvcc cuda-info.cu -o cuda-info; ./cuda-info"
      ],
      "metadata": {
        "colab": {
          "base_uri": "https://localhost:8080/"
        },
        "id": "xPdqZzLBsdw3",
        "outputId": "0fb4e4d4-598c-4935-d6e7-18f5273d3ccb"
      },
      "execution_count": null,
      "outputs": [
        {
          "output_type": "stream",
          "name": "stdout",
          "text": [
            "numero de multiprocessadores: 40\n",
            "numero de threads por bloco: 1024\n"
          ]
        }
      ]
    },
    {
      "cell_type": "markdown",
      "metadata": {
        "id": "-7lwBHt_GTDB"
      },
      "source": []
    },
    {
      "cell_type": "code",
      "source": [
        "%%writefile brute-force.cu\n",
        "\n",
        "// CUDA\n",
        "\n",
        "#include <stdio.h>\n",
        "#include <stdlib.h>\n",
        "#include <string.h>\n",
        "#include <time.h>\n",
        "#include <math.h>\n",
        "#include <cuda.h>\n",
        "#include <unistd.h>\n",
        "\n",
        "// 97 to 122 use only lowercase letters\n",
        "// 65 to 90 use only capital letters\n",
        "// 48 to 57 use only numbers\n",
        "#define START_CHAR 97\n",
        "#define END_CHAR 122\n",
        "#define MAXIMUM_PASSWORD 20\n",
        "\n",
        "__global__ void bruteForce(char *pass, unsigned int size);\n",
        "__host__ __device__ long long my_pow(long long x, int y);\n",
        "__host__ __device__ unsigned int my_strlen(char *s);\n",
        "\n",
        "int main(int argc, char **argv) {\n",
        "    size_t size = sizeof(char) * MAXIMUM_PASSWORD;\n",
        "    char *password;\n",
        "    cudaMallocManaged(&password, size);\n",
        "    strcpy(password, argv[1]);\n",
        "\n",
        "    size_t threadsPerBlock = 1024;\n",
        "    size_t numberOfBlocks = 40;\n",
        "\n",
        "    printf(\"Estamos tentando quebrar: %s\\n\", password);\n",
        "\n",
        "    unsigned int numberOfCharacters = my_strlen(password);\n",
        "\n",
        "    cudaEvent_t start, stop;\n",
        "    cudaEventCreate(&start);\n",
        "    cudaEventCreate(&stop);\n",
        "\n",
        "    cudaEventRecord(start);\n",
        "    bruteForce<<<numberOfBlocks, threadsPerBlock>>>(password, numberOfCharacters);\n",
        "    cudaEventRecord(stop);\n",
        "    \n",
        "    cudaEventSynchronize(stop);\n",
        "    float milliseconds = 0;\n",
        "    cudaEventElapsedTime(&milliseconds, start, stop);\n",
        "\n",
        "    printf(\"\\n%1.2f seconds\\n\", milliseconds/1000);\n",
        "\n",
        "    return 0;\n",
        "}\n",
        "\n",
        "/*Check and increase the digits if you don't find the password...*/\n",
        "__global__ void bruteForce(char *pass, unsigned int size) {\n",
        "    int pass_b26[MAXIMUM_PASSWORD];\n",
        "    long long int j;\n",
        "    long long int pass_decimal = 0;\n",
        "    int base = END_CHAR - START_CHAR + 2;\n",
        "\n",
        "    for (int i = 0; i < size; i++) {\n",
        "        pass_b26[i] = (int)pass[i] - START_CHAR + 1;  //+1 pois o vazio é o zero e o 'a' é 1\n",
        "    }\n",
        "\n",
        "    for (int i = size - 1; i > -1; i--) {\n",
        "        pass_decimal += (long long int)pass_b26[i] * my_pow(base, i);\n",
        "    }\n",
        "\n",
        "    long long int max = my_pow(base, 9);\n",
        "    char s[10];\n",
        "    for (j = blockIdx.x * blockDim.x + threadIdx.x; j < max; j += blockDim.x * gridDim.x) {\n",
        "        if (j == pass_decimal) {\n",
        "            printf(\"Encontrou o password!\\n\");\n",
        "            int index = 0;\n",
        "\n",
        "            printf(\"O número que estamos tentando encontrar (password na base decimal): %lli\\n\", j);\n",
        "            while (j > 0) {\n",
        "                s[index++] = START_CHAR + j % base - 1;\n",
        "                j /= base;\n",
        "            }\n",
        "            s[index] = '\\0';\n",
        "            printf(\"Password encontrado: %s\\n\", s);\n",
        "            break;\n",
        "        } else if (j > pass_decimal){\n",
        "          break;\n",
        "        }\n",
        "    }\n",
        "}\n",
        "\n",
        "__host__ __device__ long long my_pow(long long x, int y) {\n",
        "    long long res = 1;\n",
        "    if (y == 0)\n",
        "        return res;\n",
        "    else\n",
        "        return x * my_pow(x, y - 1);\n",
        "}\n",
        "\n",
        "unsigned int my_strlen(char *palavra) {\n",
        "    int i = 0;\n",
        "\n",
        "    while (palavra[i] != '\\0') {\n",
        "        i++;\n",
        "    }\n",
        "\n",
        "    return i;\n",
        "}"
      ],
      "metadata": {
        "colab": {
          "base_uri": "https://localhost:8080/"
        },
        "id": "EBlfKr9b6g_G",
        "outputId": "8f894863-5064-4439-ee5d-4f02ff3584f3"
      },
      "execution_count": null,
      "outputs": [
        {
          "output_type": "stream",
          "name": "stdout",
          "text": [
            "Overwriting brute-force.cu\n"
          ]
        }
      ]
    },
    {
      "cell_type": "code",
      "source": [
        "!nvcc brute-force.cu -o cuda; ./cuda zzzzzz"
      ],
      "metadata": {
        "colab": {
          "base_uri": "https://localhost:8080/"
        },
        "id": "rQeZkWt_6tnY",
        "outputId": "bd7186a2-0d41-4f64-d5d1-5b8a247e0a85"
      },
      "execution_count": null,
      "outputs": [
        {
          "output_type": "stream",
          "name": "stdout",
          "text": [
            "Estamos tentando quebrar: zzzzzz\n",
            "Encontrou o password!\n",
            "O número que estamos tentando encontrar (password na base decimal): 387420488\n",
            "Password encontrado: zzzzzz\n",
            "\n",
            "0.00 seconds\n"
          ]
        }
      ]
    },
    {
      "cell_type": "markdown",
      "metadata": {
        "id": "YpQC_9KBGTDC"
      },
      "source": [
        "## Modelo híbrido"
      ]
    },
    {
      "cell_type": "markdown",
      "metadata": {
        "id": "YcJfBAukGTDC"
      },
      "source": [
        "## Análise Experimental"
      ]
    },
    {
      "cell_type": "markdown",
      "metadata": {
        "id": "s6ctpZYvGTDC"
      },
      "source": [
        "1. OpenMP \n",
        "2. MPI \n",
        "3. MPI + OpenMP \n",
        "4. CUDA"
      ]
    },
    {
      "cell_type": "markdown",
      "metadata": {
        "id": "GiyEd6W_GTDD"
      },
      "source": [
        "### Tempo de execução em segundas das aplicações"
      ]
    },
    {
      "cell_type": "markdown",
      "metadata": {
        "id": "99aNB8DxGTDD"
      },
      "source": [
        "|  Senha    | Sequencial | OpenMP | MPI  | Híbrido | CUDA\n",
        "| --------- | ---------- | ------ | ---  | ------- | ----\n",
        "|         |           |       |     |       |  \n",
        "|         |         |      |    |        | \n",
        "|         |        |      |   |        | \n",
        "|        |       |    | |      | "
      ]
    },
    {
      "cell_type": "markdown",
      "metadata": {
        "tags": [],
        "id": "WDNKdvyaGTDD"
      },
      "source": [
        "### Speedup"
      ]
    },
    {
      "cell_type": "markdown",
      "metadata": {
        "id": "Joe346mGGTDD"
      },
      "source": [
        "|  Senha    |  OpenMP    | MPI     | Híbrido       | CUDA\n",
        "| --------- |  ------    | ------  | -------       | ----\n",
        "|         |        |      |            |  \n",
        "|         |       |    |            |   \n",
        "|        |       |     |         |  \n",
        "|      |       |    |         |  "
      ]
    },
    {
      "cell_type": "code",
      "execution_count": null,
      "metadata": {
        "id": "Q2dIXwn9GTDD"
      },
      "outputs": [],
      "source": []
    }
  ],
  "metadata": {
    "kernelspec": {
      "display_name": "Python 3 (ipykernel)",
      "language": "python",
      "name": "python3"
    },
    "language_info": {
      "codemirror_mode": {
        "name": "ipython",
        "version": 3
      },
      "file_extension": ".py",
      "mimetype": "text/x-python",
      "name": "python",
      "nbconvert_exporter": "python",
      "pygments_lexer": "ipython3",
      "version": "3.8.8"
    },
    "colab": {
      "provenance": [],
      "collapsed_sections": [
        "reZJEfmiGTC6",
        "q4XvcBuCGTC7",
        "dM72P9adGTC_",
        "YpQC_9KBGTDC",
        "YcJfBAukGTDC",
        "GiyEd6W_GTDD",
        "WDNKdvyaGTDD"
      ]
    },
    "gpuClass": "standard",
    "accelerator": "GPU"
  },
  "nbformat": 4,
  "nbformat_minor": 0
}